{
 "cells": [
  {
   "cell_type": "markdown",
   "id": "88daf296",
   "metadata": {},
   "source": [
    "# Server in RedHat\n",
    "\n",
    "## Task-3 -> Create Live Streaming Video Chat App without voice  using cv2 module of Python.\n",
    "\n",
    "### In RedHat OS I use internal webcam of the system."
   ]
  },
  {
   "cell_type": "code",
   "execution_count": null,
   "id": "ba4cd48b",
   "metadata": {},
   "outputs": [],
   "source": [
    "# lets make the server code\n",
    "import socket, cv2, pickle,struct,imutils,threading\n",
    "# create socket\n",
    "server_socket = socket.socket()\n",
    "server_socket.setsockopt(socket.SOL_SOCKET , socket.SO_REUSEADDR, 1)\n",
    "host_ip = '192.168.43.248'\n",
    "print('HOST IP:',host_ip)\n",
    "port = 1234\n",
    "socket_address = (host_ip,port)\n",
    "# Socket Bind\n",
    "server_socket.bind(socket_address)\n",
    "# Socket Listen\n",
    "server_socket.listen()\n",
    "print(\"LISTENING AT:\",socket_address)\n",
    "def sending_server(client_socket,addr):\n",
    "    print('GOT CONNECTION FROM:',addr)\n",
    "    if client_socket:\n",
    "        vid = cv2.VideoCapture(0)\n",
    "        \n",
    "        while(vid.isOpened()):\n",
    "            try:\n",
    "                img,frame = vid.read()\n",
    "                frame = imutils.resize(frame,width=520)\n",
    "                a = pickle.dumps(frame)\n",
    "                message = struct.pack(\"Q\",len(a))+a\n",
    "                client_socket.sendall(message)\n",
    "            except ConnectionAbortedError:\n",
    "                vid.release()\n",
    "                client_socket.close()\n",
    "                break\n",
    "            \n",
    "def receving_from_client():\n",
    "    data = b\"\"\n",
    "    payload_size = struct.calcsize(\"Q\")\n",
    "    while True:\n",
    "        while len(data) < payload_size:\n",
    "            packet = client_socket.recv(4*1024) # 4K\n",
    "            if not packet: break\n",
    "            data+=packet\n",
    "        packed_msg_size = data[:payload_size]\n",
    "        data = data[payload_size:]\n",
    "        msg_size = struct.unpack(\"Q\",packed_msg_size)[0]\n",
    "        \n",
    "        while len(data) < msg_size:\n",
    "            data += client_socket.recv(4*1024)\n",
    "        frame_data = data[:msg_size]\n",
    "        data  = data[msg_size:]\n",
    "        frame = pickle.loads(frame_data) \n",
    "        cv2.imshow('Windows Mobile Webcam',frame)\n",
    "        key = cv2.waitKey(1) & 0xFF\n",
    "        if key == 13:\n",
    "            client_socket.close()\n",
    "            break\n",
    "    cv2.destroyAllWindows()\n",
    "while True:\n",
    "    client_socket, addr = server_socket.accept()\n",
    "    if client_socket:\n",
    "        t2 = threading.Thread(target=receving_from_client)\n",
    "        t2.start()\n",
    "        t1 = threading.Thread(target=sending_server,args=(client_socket,addr))\n",
    "        t1.start()"
   ]
  },
  {
   "cell_type": "code",
   "execution_count": null,
   "id": "fb7c5ff8",
   "metadata": {},
   "outputs": [],
   "source": []
  }
 ],
 "metadata": {
  "kernelspec": {
   "display_name": "Python 3",
   "language": "python",
   "name": "python3"
  },
  "language_info": {
   "codemirror_mode": {
    "name": "ipython",
    "version": 3
   },
   "file_extension": ".py",
   "mimetype": "text/x-python",
   "name": "python",
   "nbconvert_exporter": "python",
   "pygments_lexer": "ipython3",
   "version": "3.6.8"
  }
 },
 "nbformat": 4,
 "nbformat_minor": 5
}
